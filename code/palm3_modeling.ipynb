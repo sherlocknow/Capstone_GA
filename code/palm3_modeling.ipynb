{
 "cells": [
  {
   "cell_type": "markdown",
   "metadata": {},
   "source": [
    "# Palm 3 : Random Forest & Time Series modeling  "
   ]
  },
  {
   "cell_type": "code",
   "execution_count": 1,
   "metadata": {
    "ExecuteTime": {
     "end_time": "2020-10-14T00:51:44.141281Z",
     "start_time": "2020-10-14T00:51:41.350297Z"
    }
   },
   "outputs": [],
   "source": [
    "import numpy as np\n",
    "import pandas as pd\n",
    "import matplotlib.pyplot as plt\n",
    "import scipy as stats\n",
    "import seaborn as sns\n",
    "import math as math\n",
    "import plotly.graph_objects as go\n",
    "\n",
    "import time\n",
    "import random\n",
    "import seaborn as sns\n",
    "\n",
    "\n",
    "import numpy as np\n",
    "from os import path\n",
    "from PIL import Image\n",
    "\n",
    "from datetime import datetime\n",
    "from dateutil import relativedelta\n",
    "import datetime\n",
    "\n",
    "from sklearn.model_selection import train_test_split, cross_val_score, GridSearchCV\n",
    "from sklearn.pipeline import Pipeline\n",
    "\n",
    "from sklearn.linear_model import Ridge, Lasso, ElasticNet, LinearRegression, RidgeCV, LassoCV, ElasticNetCV\n",
    "from sklearn.ensemble import RandomForestRegressor\n",
    "\n",
    "from sklearn.model_selection import train_test_split,cross_val_score\n",
    "from sklearn.preprocessing import StandardScaler\n",
    "from sklearn.linear_model import LinearRegression\n",
    "from sklearn import metrics\n",
    "from sklearn.metrics import r2_score\n",
    "from sklearn.metrics import silhouette_score\n",
    "from sklearn.datasets import load_iris, load_wine\n",
    "from sklearn.cluster import DBSCAN\n",
    "\n",
    "from sklearn.preprocessing import FunctionTransformer\n",
    "from sklearn.pipeline import make_pipeline\n",
    "from sklearn.compose import make_column_transformer\n",
    "\n",
    "from statsmodels.tsa.stattools import adfuller\n",
    "from statsmodels.tsa.arima_model import ARIMA\n",
    "\n",
    "from io import StringIO\n",
    "\n",
    "pd.set_option('display.max_rows', 3000)\n",
    "pd.set_option('display.max_columns', 200)\n",
    "pd.set_option('display.width', 1000)"
   ]
  },
  {
   "cell_type": "code",
   "execution_count": 2,
   "metadata": {
    "ExecuteTime": {
     "end_time": "2020-10-14T00:51:44.149133Z",
     "start_time": "2020-10-14T00:51:44.143819Z"
    }
   },
   "outputs": [],
   "source": [
    "# My Custom color and font scheme - to be used across all graphs \n",
    "my_title_col = 'darkslategray'\n",
    "my_label_col = 'darkslategray'\n",
    "my_graph_col = 'darkcyan'\n",
    "my_title_font = 24\n",
    "my_label_font = 20\n",
    "my_ticks_font = 18\n",
    "sns.color_palette(\"YlOrBr\");"
   ]
  },
  {
   "cell_type": "markdown",
   "metadata": {},
   "source": [
    "#### Define Functions "
   ]
  },
  {
   "cell_type": "code",
   "execution_count": 3,
   "metadata": {
    "ExecuteTime": {
     "end_time": "2020-10-14T00:51:44.156243Z",
     "start_time": "2020-10-14T00:51:44.151870Z"
    }
   },
   "outputs": [],
   "source": [
    "# Functions \n",
    "\n",
    "def age_in_months(birth_date):\n",
    "    difference = relativedelta.relativedelta(datetime.datetime.today(), birth_date)\n",
    "    months = difference.years * 12 + difference.months\n",
    "    return months\n",
    "\n",
    "def age_in_years(birth_date):\n",
    "    difference = relativedelta.relativedelta(datetime.datetime.today(), birth_date)\n",
    "    years = difference.years\n",
    "    return years\n",
    "\n",
    "def age_from_to(from_date, to_date):\n",
    "    difference = relativedelta.relativedelta(to_date, from_date)\n",
    "    months = difference.years * 12 + difference.months\n",
    "    return months\n",
    "\n"
   ]
  },
  {
   "cell_type": "markdown",
   "metadata": {},
   "source": [
    "##### Build Scores function"
   ]
  },
  {
   "cell_type": "code",
   "execution_count": 4,
   "metadata": {
    "ExecuteTime": {
     "end_time": "2020-10-14T00:51:44.165925Z",
     "start_time": "2020-10-14T00:51:44.158976Z"
    }
   },
   "outputs": [],
   "source": [
    "# Function to catupre evalting metrics from different models\n",
    "scores_df = pd.DataFrame\n",
    "scores_df = pd.DataFrame(columns=['Model Type','Dataset','Metric','Score'],index=None)\n",
    "\n",
    "def scores(scores_df,model,dataset,metric,score):\n",
    "    scores_df = scores_df.append({'Model Type':model,\n",
    "                'Dataset': dataset,\n",
    "                'Metric': metric,\n",
    "                'Score':score},\n",
    "                ignore_index=True)\n",
    "    return scores_df"
   ]
  },
  {
   "cell_type": "code",
   "execution_count": 5,
   "metadata": {
    "ExecuteTime": {
     "end_time": "2020-10-14T00:51:44.173333Z",
     "start_time": "2020-10-14T00:51:44.168302Z"
    }
   },
   "outputs": [],
   "source": [
    "# Code modified from code written by Matthew Garton.\n",
    "\n",
    "def plot_series(df, cols=None, title='Title', xlab=None, ylab=None, steps=1):\n",
    "    \n",
    "    # Set figure size to be (18, 9).\n",
    "    plt.figure(figsize=(18,9))\n",
    "    \n",
    "    # Iterate through each column name.\n",
    "    for col in cols:\n",
    "            \n",
    "        # Generate a line plot of the column name.\n",
    "        # You only have to specify Y, since our\n",
    "        # index will be a datetime index.\n",
    "        plt.plot(df[col])\n",
    "        \n",
    "    # Generate title and labels.\n",
    "    plt.title(title, fontsize=26)\n",
    "    plt.xlabel(xlab, fontsize=20)\n",
    "    plt.ylabel(ylab, fontsize=20)\n",
    "    \n",
    "    # Enlarge tick marks.\n",
    "    plt.yticks(fontsize=18)\n",
    "    plt.xticks(df.index[0::steps], fontsize=18);"
   ]
  },
  {
   "cell_type": "markdown",
   "metadata": {},
   "source": [
    "### Decision Tree - Random Forest "
   ]
  },
  {
   "cell_type": "markdown",
   "metadata": {},
   "source": [
    "#### Scenerio - 8\n",
    "- use lag of rain data with 6,12,24,26 months by adding and shifting rain_6,rain_12,rain_24 & rain_26 features\n",
    "- remove original 'rain' feature since we will not have forecasted rain data in production\n",
    "- add 'month' as new feature and one hot encode it.\n",
    "- Remove outliers( crop greater than 127 tonnes per month) from crop data in train_val dataset\n",
    "- Using the new fused dataset with blk information for monthly crop and rain, hot encode the block names \n",
    "- not removing observations with zero crop"
   ]
  },
  {
   "cell_type": "code",
   "execution_count": 6,
   "metadata": {
    "ExecuteTime": {
     "end_time": "2020-10-14T00:52:10.504417Z",
     "start_time": "2020-10-14T00:51:44.175480Z"
    }
   },
   "outputs": [
    {
     "data": {
      "text/html": [
       "<div>\n",
       "<style scoped>\n",
       "    .dataframe tbody tr th:only-of-type {\n",
       "        vertical-align: middle;\n",
       "    }\n",
       "\n",
       "    .dataframe tbody tr th {\n",
       "        vertical-align: top;\n",
       "    }\n",
       "\n",
       "    .dataframe thead th {\n",
       "        text-align: right;\n",
       "    }\n",
       "</style>\n",
       "<table border=\"1\" class=\"dataframe\">\n",
       "  <thead>\n",
       "    <tr style=\"text-align: right;\">\n",
       "      <th></th>\n",
       "      <th>Model Type</th>\n",
       "      <th>Dataset</th>\n",
       "      <th>Metric</th>\n",
       "      <th>Score</th>\n",
       "    </tr>\n",
       "  </thead>\n",
       "  <tbody>\n",
       "    <tr>\n",
       "      <th>0</th>\n",
       "      <td>Random Forest rf_S8</td>\n",
       "      <td>Train</td>\n",
       "      <td>R2</td>\n",
       "      <td>0.1544</td>\n",
       "    </tr>\n",
       "    <tr>\n",
       "      <th>1</th>\n",
       "      <td>Random Forest rf_S8</td>\n",
       "      <td>Val</td>\n",
       "      <td>R2</td>\n",
       "      <td>0.072</td>\n",
       "    </tr>\n",
       "    <tr>\n",
       "      <th>2</th>\n",
       "      <td>Random Forest rf_S8</td>\n",
       "      <td>train</td>\n",
       "      <td>RMSE</td>\n",
       "      <td>19.68</td>\n",
       "    </tr>\n",
       "    <tr>\n",
       "      <th>3</th>\n",
       "      <td>Random Forest rf_S8</td>\n",
       "      <td>Val</td>\n",
       "      <td>RMSE</td>\n",
       "      <td>17.15</td>\n",
       "    </tr>\n",
       "    <tr>\n",
       "      <th>4</th>\n",
       "      <td>Random Forest rf_S8</td>\n",
       "      <td>train</td>\n",
       "      <td>CVal_5</td>\n",
       "      <td>0.0501</td>\n",
       "    </tr>\n",
       "  </tbody>\n",
       "</table>\n",
       "</div>"
      ],
      "text/plain": [
       "            Model Type Dataset  Metric   Score\n",
       "0  Random Forest rf_S8   Train      R2  0.1544\n",
       "1  Random Forest rf_S8     Val      R2   0.072\n",
       "2  Random Forest rf_S8   train    RMSE   19.68\n",
       "3  Random Forest rf_S8     Val    RMSE   17.15\n",
       "4  Random Forest rf_S8   train  CVal_5  0.0501"
      ]
     },
     "execution_count": 6,
     "metadata": {},
     "output_type": "execute_result"
    }
   ],
   "source": [
    "#load final fused dataset\n",
    "df = pd.read_csv(\"../data/final_fused_monthly.csv\")\n",
    "df['date'] = df['date'].apply(lambda x: str(x))\n",
    "df['date'] = pd.to_datetime(df['date'],yearfirst=True,format=\"%Y/%m/%d\")\n",
    "\n",
    "\n",
    "df = pd.get_dummies(df, columns=['blk'],drop_first=False) # create one hot-encoded blocks\n",
    "df['month'] = df['date'].dt.month # adding new feature month\n",
    "df = pd.get_dummies(df, columns=['month'],drop_first=False) # create one hot-encoded months\n",
    "\n",
    "df = df.sort_values('date')\n",
    "dfi = df.copy()\n",
    "dfi = dfi.set_index('date', drop=True) # set date as index\n",
    "\n",
    "# rain data \n",
    "dfi['rain'] = dfi['rain']/195 # removing rain multiplication by no of block (undoing the effect of melt)\n",
    "dfi['rain_6'] = dfi['rain'].shift(6) # creating new feature with shift by 6 months\n",
    "dfi['rain_12'] = dfi['rain'].shift(12) # creating new feature with shift by 12 months\n",
    "dfi['rain_24'] = dfi['rain'].shift(24) # creating new feature with shift by 24 months\n",
    "dfi['rain_26'] = dfi['rain'].shift(26) # creating new feature with shift by 26 months\n",
    "dfi.drop('rain',axis=1,inplace=True) # keeping only rain_12, rain_24 in train dataset as well.\n",
    "dfi.dropna(inplace=True) # drop first 26 rows with null rain_26 column\n",
    "\n",
    "\n",
    "# Train & Val : 1-apr-2011 to 31-Dec-2019\n",
    "dfi_m_train = dfi[dfi.index < '2020-01-01'].copy()# train & val dataset from 1-Apr-2011 to 31-Dec-2019\n",
    "# remove outliers beyond 75 percent from train_val dataset\n",
    "dfi_m_train.drop(dfi_m_train[dfi_m_train['crop'] > 127].index,inplace=True)\n",
    "\n",
    "# Test dataset is used to apply finally seclected model\n",
    "dfi_m_test = dfi[dfi.index > '2019-12-31'].copy() # test dataset from 1-Jan-2020\n",
    "dfi_m_test.drop(dfi_m_test[dfi_m_test.index > '2020-05-31'].index,inplace=True) # drop rows beyond 31st May 2020\n",
    "\n",
    "#remove date index from datasets for modeling \n",
    "dfi_m_train.reset_index(drop=True,inplace=True)\n",
    "dfi_m_test.reset_index(drop=True,inplace=True)\n",
    "\n",
    "#remove rows with zero crop\n",
    "dfi_m_train.drop(dfi_m_train[dfi_m_train['crop'] == 0].index,inplace=True)\n",
    "dfi_m_test.drop(dfi_m_test[dfi_m_test['crop'] == 0].index,inplace=True)\n",
    "\n",
    "# drop target variable from test dataset\n",
    "dfi_m_test.drop('crop',axis=1,inplace=True)\n",
    "\n",
    "#####################################################################################\n",
    "# assign predictors and target variables\n",
    "X = dfi_m_train.drop(['crop'],axis=1)\n",
    "y = dfi_m_train['crop']\n",
    "\n",
    "# split train data into train and validation datasets\n",
    "X_train,X_val,y_train,y_val = train_test_split(X,y,test_size=0.15,shuffle=False)\n",
    "\n",
    "# scaling predictors in train-val and test datasets\n",
    "#ss = StandardScaler()\n",
    "#ss.fit(X_train)\n",
    "#X_train_scaled = ss.transform(X_train) \n",
    "#X_val_scaled = ss.transform(X_val) \n",
    "#test_scaled = ss.transform(dfi_m_test) # dataset for final test.\n",
    "\n",
    "#rf = RandomForestClassifier(n_estimators=100)\n",
    "rf = RandomForestRegressor(n_estimators=100, max_depth=10)\n",
    "\n",
    "rf.fit(X_train,y_train)\n",
    "y_preds = rf.predict(X_val)\n",
    "\n",
    "scores_df = scores(scores_df,'Random Forest rf_S8','Train','R2',f'{round(rf.score(X_train,y_train),4)}')\n",
    "scores_df = scores(scores_df,'Random Forest rf_S8','Val','R2',f'{round(rf.score(X_val,y_val),4)}')\n",
    "#scores_df = scores(scores_df,'Random Forest rf_S8','Val','Adj R2',f'{round((1-(1-r2_score(y_val, y_preds))*((len(X_val)-1)/(len(X_val)-len(X_val[0])-1))),4)}')\n",
    "scores_df = scores(scores_df,'Random Forest rf_S8','train','RMSE',f'{round(math.sqrt(metrics.mean_squared_error(y_train, rf.predict(X_train))),2)}')\n",
    "scores_df = scores(scores_df,'Random Forest rf_S8','Val','RMSE',f'{round(math.sqrt(metrics.mean_squared_error(y_val, rf.predict(X_val))),2)}')\n",
    "scores_df = scores(scores_df,'Random Forest rf_S8','train','CVal_5',f'{round(cross_val_score(rf, X_train, y_train, cv=5).mean(),4)}')\n",
    "scores_df.tail(5)"
   ]
  },
  {
   "cell_type": "markdown",
   "metadata": {},
   "source": [
    "#### Scenerio - 8 Evaluate"
   ]
  },
  {
   "cell_type": "code",
   "execution_count": 7,
   "metadata": {
    "ExecuteTime": {
     "end_time": "2020-10-14T00:52:10.517802Z",
     "start_time": "2020-10-14T00:52:10.508134Z"
    }
   },
   "outputs": [
    {
     "name": "stdout",
     "output_type": "stream",
     "text": [
      "Mean Absolute Error: 14.01 degrees.\n",
      "Accuracy: 35.02 %.\n"
     ]
    }
   ],
   "source": [
    "# Calculate the absolute errors\n",
    "errors = abs(y_preds - y_val)\n",
    "# Print out the mean absolute error (mae)\n",
    "print('Mean Absolute Error:', round(np.mean(errors), 2), 'degrees.')\n",
    "\n",
    "# Calculate mean absolute percentage error (MAPE)\n",
    "mape = 100 * (errors / y_val)\n",
    "# Calculate and display accuracy\n",
    "accuracy = 100 - np.mean(mape)\n",
    "print('Accuracy:', round(accuracy, 2), '%.')"
   ]
  },
  {
   "cell_type": "code",
   "execution_count": 8,
   "metadata": {
    "ExecuteTime": {
     "end_time": "2020-10-14T00:52:10.530417Z",
     "start_time": "2020-10-14T00:52:10.523322Z"
    }
   },
   "outputs": [
    {
     "data": {
      "text/plain": [
       "13948    49.66056\n",
       "13949    44.46350\n",
       "Name: crop, dtype: float64"
      ]
     },
     "metadata": {},
     "output_type": "display_data"
    },
    {
     "data": {
      "text/plain": [
       "array([42.01578405, 42.01578405])"
      ]
     },
     "metadata": {},
     "output_type": "display_data"
    }
   ],
   "source": [
    "display(y_val[0:2])\n",
    "display(y_preds[0:2])"
   ]
  },
  {
   "cell_type": "markdown",
   "metadata": {},
   "source": [
    "#### Scenerio - 8 Feature Importance"
   ]
  },
  {
   "cell_type": "code",
   "execution_count": 9,
   "metadata": {
    "ExecuteTime": {
     "end_time": "2020-10-14T00:52:10.550331Z",
     "start_time": "2020-10-14T00:52:10.533409Z"
    }
   },
   "outputs": [
    {
     "name": "stdout",
     "output_type": "stream",
     "text": [
      "Variable: blk_J03B             Importance: 0.12\n",
      "Variable: blk_ZC01B            Importance: 0.12\n",
      "Variable: blk_F07B             Importance: 0.11\n",
      "Variable: blk_ZM102            Importance: 0.11\n",
      "Variable: blk_E07B             Importance: 0.1\n",
      "Variable: blk_E08B             Importance: 0.1\n",
      "Variable: blk_B06              Importance: 0.07\n",
      "Variable: blk_H106             Importance: 0.07\n",
      "Variable: blk_K04B             Importance: 0.04\n",
      "Variable: blk_I09              Importance: 0.03\n",
      "Variable: blk_D07              Importance: 0.02\n",
      "Variable: blk_J05B             Importance: 0.02\n",
      "Variable: blk_J05C             Importance: 0.02\n",
      "Variable: blk_D08              Importance: 0.01\n",
      "Variable: blk_H02              Importance: 0.01\n",
      "Variable: blk_J09              Importance: 0.01\n",
      "Variable: blk_A01              Importance: 0.0\n",
      "Variable: blk_A02              Importance: 0.0\n",
      "Variable: blk_A03              Importance: 0.0\n",
      "Variable: blk_A04              Importance: 0.0\n",
      "Variable: blk_A05              Importance: 0.0\n",
      "Variable: blk_A06              Importance: 0.0\n",
      "Variable: blk_A07              Importance: 0.0\n",
      "Variable: blk_A08              Importance: 0.0\n",
      "Variable: blk_A09              Importance: 0.0\n",
      "Variable: blk_A10              Importance: 0.0\n",
      "Variable: blk_A100             Importance: 0.0\n",
      "Variable: blk_A101             Importance: 0.0\n",
      "Variable: blk_A102             Importance: 0.0\n",
      "Variable: blk_A11              Importance: 0.0\n",
      "Variable: blk_A12              Importance: 0.0\n",
      "Variable: blk_A13              Importance: 0.0\n",
      "Variable: blk_A14              Importance: 0.0\n",
      "Variable: blk_B01              Importance: 0.0\n",
      "Variable: blk_B02              Importance: 0.0\n",
      "Variable: blk_B03              Importance: 0.0\n",
      "Variable: blk_B04              Importance: 0.0\n",
      "Variable: blk_B05              Importance: 0.0\n",
      "Variable: blk_B07              Importance: 0.0\n",
      "Variable: blk_B08              Importance: 0.0\n",
      "Variable: blk_B09              Importance: 0.0\n",
      "Variable: blk_B10              Importance: 0.0\n",
      "Variable: blk_B100             Importance: 0.0\n",
      "Variable: blk_B101             Importance: 0.0\n",
      "Variable: blk_B102             Importance: 0.0\n",
      "Variable: blk_B106             Importance: 0.0\n",
      "Variable: blk_B11              Importance: 0.0\n",
      "Variable: blk_B12              Importance: 0.0\n",
      "Variable: blk_B13              Importance: 0.0\n",
      "Variable: blk_B14              Importance: 0.0\n",
      "Variable: blk_C01              Importance: 0.0\n",
      "Variable: blk_C02              Importance: 0.0\n",
      "Variable: blk_C03              Importance: 0.0\n",
      "Variable: blk_C04              Importance: 0.0\n",
      "Variable: blk_C05              Importance: 0.0\n",
      "Variable: blk_C06              Importance: 0.0\n",
      "Variable: blk_C07              Importance: 0.0\n",
      "Variable: blk_C08              Importance: 0.0\n",
      "Variable: blk_C09              Importance: 0.0\n",
      "Variable: blk_C10              Importance: 0.0\n",
      "Variable: blk_C100             Importance: 0.0\n",
      "Variable: blk_C101             Importance: 0.0\n",
      "Variable: blk_C102             Importance: 0.0\n",
      "Variable: blk_C103             Importance: 0.0\n",
      "Variable: blk_C104             Importance: 0.0\n",
      "Variable: blk_C105             Importance: 0.0\n",
      "Variable: blk_C106             Importance: 0.0\n",
      "Variable: blk_C11              Importance: 0.0\n",
      "Variable: blk_C12              Importance: 0.0\n",
      "Variable: blk_C13              Importance: 0.0\n",
      "Variable: blk_C14              Importance: 0.0\n",
      "Variable: blk_D02              Importance: 0.0\n",
      "Variable: blk_D03              Importance: 0.0\n",
      "Variable: blk_D04              Importance: 0.0\n",
      "Variable: blk_D05              Importance: 0.0\n",
      "Variable: blk_D06              Importance: 0.0\n",
      "Variable: blk_D09              Importance: 0.0\n",
      "Variable: blk_D10              Importance: 0.0\n",
      "Variable: blk_D102             Importance: 0.0\n",
      "Variable: blk_D103             Importance: 0.0\n",
      "Variable: blk_D104             Importance: 0.0\n",
      "Variable: blk_D105             Importance: 0.0\n",
      "Variable: blk_D106             Importance: 0.0\n",
      "Variable: blk_D11              Importance: 0.0\n",
      "Variable: blk_E01              Importance: 0.0\n",
      "Variable: blk_E02              Importance: 0.0\n",
      "Variable: blk_E03              Importance: 0.0\n",
      "Variable: blk_E04              Importance: 0.0\n",
      "Variable: blk_E05              Importance: 0.0\n",
      "Variable: blk_E06              Importance: 0.0\n",
      "Variable: blk_E07A             Importance: 0.0\n",
      "Variable: blk_E08A             Importance: 0.0\n",
      "Variable: blk_E09              Importance: 0.0\n",
      "Variable: blk_E10              Importance: 0.0\n",
      "Variable: blk_E100             Importance: 0.0\n",
      "Variable: blk_E102             Importance: 0.0\n",
      "Variable: blk_E103             Importance: 0.0\n",
      "Variable: blk_E104             Importance: 0.0\n",
      "Variable: blk_E105             Importance: 0.0\n",
      "Variable: blk_E106             Importance: 0.0\n",
      "Variable: blk_E11              Importance: 0.0\n",
      "Variable: blk_E12              Importance: 0.0\n",
      "Variable: blk_F04              Importance: 0.0\n",
      "Variable: blk_F05              Importance: 0.0\n",
      "Variable: blk_F06              Importance: 0.0\n",
      "Variable: blk_F07A             Importance: 0.0\n",
      "Variable: blk_F08              Importance: 0.0\n",
      "Variable: blk_F09              Importance: 0.0\n",
      "Variable: blk_F10              Importance: 0.0\n",
      "Variable: blk_F102             Importance: 0.0\n",
      "Variable: blk_F103             Importance: 0.0\n",
      "Variable: blk_F105             Importance: 0.0\n",
      "Variable: blk_F106             Importance: 0.0\n",
      "Variable: blk_F11              Importance: 0.0\n",
      "Variable: blk_F12              Importance: 0.0\n",
      "Variable: blk_G04              Importance: 0.0\n",
      "Variable: blk_G05              Importance: 0.0\n",
      "Variable: blk_G06              Importance: 0.0\n",
      "Variable: blk_G07              Importance: 0.0\n",
      "Variable: blk_G08              Importance: 0.0\n",
      "Variable: blk_G09              Importance: 0.0\n",
      "Variable: blk_G10              Importance: 0.0\n",
      "Variable: blk_G105             Importance: 0.0\n",
      "Variable: blk_G106             Importance: 0.0\n",
      "Variable: blk_G11              Importance: 0.0\n",
      "Variable: blk_H03B             Importance: 0.0\n",
      "Variable: blk_H04              Importance: 0.0\n",
      "Variable: blk_H05              Importance: 0.0\n",
      "Variable: blk_H06              Importance: 0.0\n",
      "Variable: blk_H07              Importance: 0.0\n",
      "Variable: blk_H08              Importance: 0.0\n",
      "Variable: blk_H09              Importance: 0.0\n",
      "Variable: blk_H10              Importance: 0.0\n",
      "Variable: blk_H105             Importance: 0.0\n",
      "Variable: blk_H11              Importance: 0.0\n",
      "Variable: blk_H12              Importance: 0.0\n",
      "Variable: blk_I01              Importance: 0.0\n",
      "Variable: blk_I01B             Importance: 0.0\n",
      "Variable: blk_I04              Importance: 0.0\n",
      "Variable: blk_I05              Importance: 0.0\n",
      "Variable: blk_I06A             Importance: 0.0\n",
      "Variable: blk_I06B             Importance: 0.0\n",
      "Variable: blk_I07A             Importance: 0.0\n",
      "Variable: blk_I07B             Importance: 0.0\n",
      "Variable: blk_I08              Importance: 0.0\n",
      "Variable: blk_I08B             Importance: 0.0\n",
      "Variable: blk_I10              Importance: 0.0\n",
      "Variable: blk_I100             Importance: 0.0\n",
      "Variable: blk_I105             Importance: 0.0\n",
      "Variable: blk_I11              Importance: 0.0\n",
      "Variable: blk_J01              Importance: 0.0\n",
      "Variable: blk_J02              Importance: 0.0\n",
      "Variable: blk_J03A             Importance: 0.0\n",
      "Variable: blk_J04A             Importance: 0.0\n",
      "Variable: blk_J04B             Importance: 0.0\n",
      "Variable: blk_J05A             Importance: 0.0\n",
      "Variable: blk_J06              Importance: 0.0\n",
      "Variable: blk_J07              Importance: 0.0\n",
      "Variable: blk_J08              Importance: 0.0\n",
      "Variable: blk_J100             Importance: 0.0\n",
      "Variable: blk_J101             Importance: 0.0\n",
      "Variable: blk_K02              Importance: 0.0\n",
      "Variable: blk_K03              Importance: 0.0\n",
      "Variable: blk_K04A             Importance: 0.0\n",
      "Variable: blk_K05              Importance: 0.0\n",
      "Variable: blk_K08              Importance: 0.0\n",
      "Variable: blk_K09              Importance: 0.0\n",
      "Variable: blk_ZA01             Importance: 0.0\n",
      "Variable: blk_ZA102            Importance: 0.0\n",
      "Variable: blk_ZB01             Importance: 0.0\n",
      "Variable: blk_ZB102            Importance: 0.0\n",
      "Variable: blk_ZC01A            Importance: 0.0\n",
      "Variable: blk_ZC102            Importance: 0.0\n",
      "Variable: blk_ZD01             Importance: 0.0\n",
      "Variable: blk_ZD102            Importance: 0.0\n",
      "Variable: blk_ZE01             Importance: 0.0\n",
      "Variable: blk_ZE102            Importance: 0.0\n",
      "Variable: blk_ZF01             Importance: 0.0\n",
      "Variable: blk_ZF102            Importance: 0.0\n",
      "Variable: blk_ZG01             Importance: 0.0\n",
      "Variable: blk_ZG102            Importance: 0.0\n",
      "Variable: blk_ZH01             Importance: 0.0\n",
      "Variable: blk_ZH102            Importance: 0.0\n",
      "Variable: blk_ZI01             Importance: 0.0\n",
      "Variable: blk_ZI102            Importance: 0.0\n",
      "Variable: blk_ZJ01             Importance: 0.0\n",
      "Variable: blk_ZJ102            Importance: 0.0\n",
      "Variable: blk_ZK102            Importance: 0.0\n",
      "Variable: blk_ZL102            Importance: 0.0\n",
      "Variable: blk_ZN102            Importance: 0.0\n",
      "Variable: blk_ZO102            Importance: 0.0\n",
      "Variable: blk_ZP102            Importance: 0.0\n",
      "Variable: blk_ZQ102            Importance: 0.0\n",
      "Variable: blk_ZR102            Importance: 0.0\n",
      "Variable: blk_ZS102            Importance: 0.0\n",
      "Variable: month_1              Importance: 0.0\n",
      "Variable: month_2              Importance: 0.0\n",
      "Variable: month_3              Importance: 0.0\n",
      "Variable: month_4              Importance: 0.0\n",
      "Variable: month_5              Importance: 0.0\n",
      "Variable: month_6              Importance: 0.0\n",
      "Variable: month_7              Importance: 0.0\n",
      "Variable: month_8              Importance: 0.0\n",
      "Variable: month_9              Importance: 0.0\n",
      "Variable: month_10             Importance: 0.0\n",
      "Variable: month_11             Importance: 0.0\n",
      "Variable: month_12             Importance: 0.0\n",
      "Variable: rain_6               Importance: 0.0\n",
      "Variable: rain_12              Importance: 0.0\n",
      "Variable: rain_24              Importance: 0.0\n",
      "Variable: rain_26              Importance: 0.0\n"
     ]
    }
   ],
   "source": [
    "feature_list = list(X.columns)\n",
    "# Get numerical feature importances\n",
    "importances = list(rf.feature_importances_)\n",
    "# List of tuples with variable and importance\n",
    "feature_importances = [(feature, round(importance, 2)) for feature, importance in zip(feature_list, importances)]\n",
    "# Sort the feature importances by most important first\n",
    "feature_importances = sorted(feature_importances, key = lambda x: x[1], reverse = True)\n",
    "# Print out the feature and importances \n",
    "[print('Variable: {:20} Importance: {}'.format(*pair)) for pair in feature_importances];"
   ]
  },
  {
   "cell_type": "markdown",
   "metadata": {},
   "source": [
    "#### Scenerio - 10"
   ]
  },
  {
   "cell_type": "markdown",
   "metadata": {
    "ExecuteTime": {
     "end_time": "2020-10-13T09:28:05.752681Z",
     "start_time": "2020-10-13T09:28:05.742799Z"
    }
   },
   "source": [
    "- use lag of rain data with 6,12 months by adding and shifting rain_6,rain_12 features\n",
    "- remove original 'rain' feature since we will not have forecasted rain data in production\n",
    "- add 'month' as new feature and one hot encode it.\n",
    "- Remove outliers( crop greater than 127 tonnes per month) from crop data in train_val dataset\n",
    "- Using the new fused dataset with blk information for monthly crop and rain, hot encode the block names \n",
    "- not removing observations with zero crop\n",
    "- Use area, no of palms, age, class proportion\n",
    "- compute age as of the month of the each crop data observation\n",
    "- keeping observations with zero crop\n",
    "- n_estimator = 100 max_depth = 8"
   ]
  },
  {
   "cell_type": "code",
   "execution_count": 37,
   "metadata": {
    "ExecuteTime": {
     "end_time": "2020-10-14T00:54:14.752710Z",
     "start_time": "2020-10-14T00:53:48.718695Z"
    }
   },
   "outputs": [
    {
     "data": {
      "text/html": [
       "<div>\n",
       "<style scoped>\n",
       "    .dataframe tbody tr th:only-of-type {\n",
       "        vertical-align: middle;\n",
       "    }\n",
       "\n",
       "    .dataframe tbody tr th {\n",
       "        vertical-align: top;\n",
       "    }\n",
       "\n",
       "    .dataframe thead th {\n",
       "        text-align: right;\n",
       "    }\n",
       "</style>\n",
       "<table border=\"1\" class=\"dataframe\">\n",
       "  <thead>\n",
       "    <tr style=\"text-align: right;\">\n",
       "      <th></th>\n",
       "      <th>Model Type</th>\n",
       "      <th>Dataset</th>\n",
       "      <th>Metric</th>\n",
       "      <th>Score</th>\n",
       "    </tr>\n",
       "  </thead>\n",
       "  <tbody>\n",
       "    <tr>\n",
       "      <th>10</th>\n",
       "      <td>Random Forest  rf_S10</td>\n",
       "      <td>Train</td>\n",
       "      <td>R2</td>\n",
       "      <td>0.691</td>\n",
       "    </tr>\n",
       "    <tr>\n",
       "      <th>11</th>\n",
       "      <td>Random Forest rf_S10</td>\n",
       "      <td>Val</td>\n",
       "      <td>R2</td>\n",
       "      <td>0.4656</td>\n",
       "    </tr>\n",
       "    <tr>\n",
       "      <th>12</th>\n",
       "      <td>Random Forest  rf_S10</td>\n",
       "      <td>train</td>\n",
       "      <td>RMSE</td>\n",
       "      <td>12.26</td>\n",
       "    </tr>\n",
       "    <tr>\n",
       "      <th>13</th>\n",
       "      <td>Random Forest  rf_S10</td>\n",
       "      <td>Val</td>\n",
       "      <td>RMSE</td>\n",
       "      <td>13.29</td>\n",
       "    </tr>\n",
       "    <tr>\n",
       "      <th>14</th>\n",
       "      <td>Random Forest rf_S10</td>\n",
       "      <td>train</td>\n",
       "      <td>CVal_5</td>\n",
       "      <td>0.5577</td>\n",
       "    </tr>\n",
       "  </tbody>\n",
       "</table>\n",
       "</div>"
      ],
      "text/plain": [
       "               Model Type Dataset  Metric   Score\n",
       "10  Random Forest  rf_S10   Train      R2   0.691\n",
       "11   Random Forest rf_S10     Val      R2  0.4656\n",
       "12  Random Forest  rf_S10   train    RMSE   12.26\n",
       "13  Random Forest  rf_S10     Val    RMSE   13.29\n",
       "14   Random Forest rf_S10   train  CVal_5  0.5577"
      ]
     },
     "execution_count": 37,
     "metadata": {},
     "output_type": "execute_result"
    }
   ],
   "source": [
    "#load final fused dataset\n",
    "blocks = pd.read_csv(\"../data/blocks.csv\")\n",
    "df = pd.read_csv(\"../data/final_fused_monthly.csv\")\n",
    "df['date'] = df['date'].apply(lambda x: str(x))\n",
    "df['date'] = pd.to_datetime(df['date'],yearfirst=True,format=\"%Y/%m/%d\")\n",
    "\n",
    "# merge with blocks to get block's static features\n",
    "df = pd.merge(df, blocks,\n",
    "                how='left', \n",
    "                left_on = 'blk', \n",
    "                right_on = 'blk', \n",
    "                copy=False)\n",
    "\n",
    "\n",
    "df['mth_of_plant'] = df['mth_of_plant'].apply(lambda x: str(x))\n",
    "df['mth_of_plant'] = pd.to_datetime(df['mth_of_plant'],yearfirst=True,format=\"%Y/%m/%d\")\n",
    "    \n",
    "# compute age as of the month year and month of the crop.\n",
    "for i in df.index:\n",
    "    difference = relativedelta.relativedelta(pd.to_datetime(df.loc[i]['date']), \n",
    "                                             pd.to_datetime(df.loc[i]['mth_of_plant']))\n",
    "    months = difference.years * 12 + difference.months\n",
    "    df.at[i,'age'] = months\n",
    "\n",
    "#Drop features not required for modeling \n",
    "df.drop(['plant_mat','mth_of_plant','syp1_ha','syp2_ha','syp3_ha', 'syp4_ha','syp5_ha','density'],\n",
    "        axis=1,inplace=True)\n",
    "\n",
    "# create one hot-encoded blocks\n",
    "df['blk_eval'] = df['blk'] # keep copy of block name for evaluation of the model\n",
    "df = pd.get_dummies(df, columns=['blk'],drop_first=False) \n",
    "\n",
    "# add new feature month\n",
    "df['month'] = df['date'].dt.month \n",
    "df = pd.get_dummies(df, columns=['month'],drop_first=False) # create one hot-encoded months\n",
    "\n",
    "df = df.sort_values('date')\n",
    "dfi = df.copy()\n",
    "dfi = dfi.set_index('date', drop=True) # set date as index\n",
    "\n",
    "# rain data \n",
    "dfi['rain'] = dfi['rain']/195 # removing rain multiplication by no of block (undoing the effect of melt)\n",
    "dfi['rain_1'] = dfi['rain'].shift(1) # creating new feature with shift \n",
    "dfi['rain_2'] = dfi['rain'].shift(2) # creating new feature with shift \n",
    "dfi['rain_3'] = dfi['rain'].shift(3) # creating new feature with shift \n",
    "#dfi['rain_26'] = dfi['rain'].shift(26) # creating new feature with shift\n",
    "dfi.drop('rain',axis=1,inplace=True) # keeping only rain_12, rain_24 in train dataset as well.\n",
    "dfi.dropna(inplace=True) # drop rows with NaN due to shifting of rain\n",
    "dfi['date'] = dfi.index \n",
    "\n",
    "\n",
    "# Train & Val : 1-apr-2011 to 31-Dec-2019\n",
    "dfi_m_train = dfi[dfi.index < '2020-01-01'].copy()# train & val dataset from 1-Apr-2011 to 31-Dec-2019\n",
    "\n",
    "# remove outliers from train_val dataset\n",
    "dfi_m_train.drop(dfi_m_train[dfi_m_train['crop'] > 120].index,inplace=True)\n",
    "\n",
    "# Test dataset is used to apply finally seclected model\n",
    "dfi_m_test = dfi[dfi.index > '2019-12-31'].copy() # test dataset from 1-Jan-2020\n",
    "dfi_m_test.drop(dfi_m_test[dfi_m_test.index > '2020-05-31'].index,inplace=True) # drop rows beyond 31st May 2020\n",
    "\n",
    "#remove date index from datasets for modeling \n",
    "dfi_m_train.reset_index(drop=True,inplace=True)\n",
    "dfi_m_test.reset_index(drop=True,inplace=True)\n",
    "\n",
    "#remove rows with zero crop\n",
    "#dfi_m_train.drop(dfi_m_train[dfi_m_train['crop'] == 0].index,inplace=True)\n",
    "#dfi_m_test.drop(dfi_m_test[dfi_m_test['crop'] == 0].index,inplace=True)\n",
    "\n",
    "\n",
    "# assign predictors and target variables\n",
    "y = dfi_m_train['crop']\n",
    "\n",
    "# split train data into train and validation datasets\n",
    "df_train,df_val,y_train,y_val = train_test_split(dfi_m_train,y,test_size=0.15,shuffle=False)\n",
    "\n",
    "X_train = df_train.drop(['crop','date','blk_eval'],axis=1)\n",
    "X_val = df_val.drop(['crop','date','blk_eval'],axis=1)\n",
    "\n",
    "# remove label data - crop and other features needed for evaluation from final test dataset\n",
    "dfi_m_test.drop(['crop','date','blk_eval'],axis=1,inplace=True)\n",
    "\n",
    "\n",
    "# scaling predictors in train-val and test datasets\n",
    "#ss = StandardScaler()\n",
    "#ss.fit(X_train)\n",
    "#X_train_scaled = ss.transform(X_train) \n",
    "#X_val_scaled = ss.transform(X_val) \n",
    "#test_scaled = ss.transform(dfi_m_test) # dataset for final test.\n",
    "\n",
    "#rf = RandomForestClassifier(n_estimators=100)\n",
    "rf = RandomForestRegressor(n_estimators=100,max_depth=8)\n",
    "\n",
    "rf.fit(X_train,y_train)\n",
    "y_preds = rf.predict(X_val)\n",
    "\n",
    "scores_df = scores(scores_df,'Random Forest  rf_S10','Train','R2',f'{round(rf.score(X_train,y_train),4)}')\n",
    "scores_df = scores(scores_df,'Random Forest rf_S10','Val','R2',f'{round(rf.score(X_val,y_val),4)}')\n",
    "#scores_df = scores(scores_df,'Random Forest rf_S10','Val','Adj R2',f'{round((1-(1-r2_score(y_val, y_preds))*((len(X_val)-1)/(len(X_val)-len(X_val[0])-1))),4)}')\n",
    "scores_df = scores(scores_df,'Random Forest  rf_S10','train','RMSE',f'{round(math.sqrt(metrics.mean_squared_error(y_train, rf.predict(X_train))),2)}')\n",
    "scores_df = scores(scores_df,'Random Forest  rf_S10','Val','RMSE',f'{round(math.sqrt(metrics.mean_squared_error(y_val, rf.predict(X_val))),2)}')\n",
    "scores_df = scores(scores_df,'Random Forest rf_S10','train','CVal_5',f'{round(cross_val_score(rf, X_train, y_train, cv=5).mean(),4)}')\n",
    "scores_df.tail(5)\n"
   ]
  },
  {
   "cell_type": "code",
   "execution_count": 11,
   "metadata": {
    "ExecuteTime": {
     "end_time": "2020-10-14T00:52:36.874889Z",
     "start_time": "2020-10-14T00:52:36.867107Z"
    }
   },
   "outputs": [
    {
     "data": {
      "text/html": [
       "<div>\n",
       "<style scoped>\n",
       "    .dataframe tbody tr th:only-of-type {\n",
       "        vertical-align: middle;\n",
       "    }\n",
       "\n",
       "    .dataframe tbody tr th {\n",
       "        vertical-align: top;\n",
       "    }\n",
       "\n",
       "    .dataframe thead th {\n",
       "        text-align: right;\n",
       "    }\n",
       "</style>\n",
       "<table border=\"1\" class=\"dataframe\">\n",
       "  <thead>\n",
       "    <tr style=\"text-align: right;\">\n",
       "      <th></th>\n",
       "      <th>Model Type</th>\n",
       "      <th>Dataset</th>\n",
       "      <th>Metric</th>\n",
       "      <th>Score</th>\n",
       "    </tr>\n",
       "  </thead>\n",
       "  <tbody>\n",
       "    <tr>\n",
       "      <th>5</th>\n",
       "      <td>Random Forest  rf_S10</td>\n",
       "      <td>Train</td>\n",
       "      <td>R2</td>\n",
       "      <td>0.6915</td>\n",
       "    </tr>\n",
       "    <tr>\n",
       "      <th>6</th>\n",
       "      <td>Random Forest rf_S10</td>\n",
       "      <td>Val</td>\n",
       "      <td>R2</td>\n",
       "      <td>0.4662</td>\n",
       "    </tr>\n",
       "    <tr>\n",
       "      <th>7</th>\n",
       "      <td>Random Forest  rf_S10</td>\n",
       "      <td>train</td>\n",
       "      <td>RMSE</td>\n",
       "      <td>12.25</td>\n",
       "    </tr>\n",
       "    <tr>\n",
       "      <th>8</th>\n",
       "      <td>Random Forest  rf_S10</td>\n",
       "      <td>Val</td>\n",
       "      <td>RMSE</td>\n",
       "      <td>13.28</td>\n",
       "    </tr>\n",
       "    <tr>\n",
       "      <th>9</th>\n",
       "      <td>Random Forest rf_S10</td>\n",
       "      <td>train</td>\n",
       "      <td>CVal_5</td>\n",
       "      <td>0.5576</td>\n",
       "    </tr>\n",
       "  </tbody>\n",
       "</table>\n",
       "</div>"
      ],
      "text/plain": [
       "              Model Type Dataset  Metric   Score\n",
       "5  Random Forest  rf_S10   Train      R2  0.6915\n",
       "6   Random Forest rf_S10     Val      R2  0.4662\n",
       "7  Random Forest  rf_S10   train    RMSE   12.25\n",
       "8  Random Forest  rf_S10     Val    RMSE   13.28\n",
       "9   Random Forest rf_S10   train  CVal_5  0.5576"
      ]
     },
     "execution_count": 11,
     "metadata": {},
     "output_type": "execute_result"
    }
   ],
   "source": [
    "scores_df.tail(5)"
   ]
  },
  {
   "cell_type": "markdown",
   "metadata": {},
   "source": [
    "#### Scenerio - 10 Evaluate"
   ]
  },
  {
   "cell_type": "code",
   "execution_count": 12,
   "metadata": {
    "ExecuteTime": {
     "end_time": "2020-10-14T00:52:36.890943Z",
     "start_time": "2020-10-14T00:52:36.876623Z"
    },
    "scrolled": false
   },
   "outputs": [
    {
     "name": "stdout",
     "output_type": "stream",
     "text": [
      "2369 2369 2369\n"
     ]
    },
    {
     "data": {
      "text/html": [
       "<div>\n",
       "<style scoped>\n",
       "    .dataframe tbody tr th:only-of-type {\n",
       "        vertical-align: middle;\n",
       "    }\n",
       "\n",
       "    .dataframe tbody tr th {\n",
       "        vertical-align: top;\n",
       "    }\n",
       "\n",
       "    .dataframe thead th {\n",
       "        text-align: right;\n",
       "    }\n",
       "</style>\n",
       "<table border=\"1\" class=\"dataframe\">\n",
       "  <thead>\n",
       "    <tr style=\"text-align: right;\">\n",
       "      <th></th>\n",
       "      <th>date</th>\n",
       "      <th>blk_eval</th>\n",
       "      <th>crop</th>\n",
       "      <th>crop_preds</th>\n",
       "      <th>variance</th>\n",
       "    </tr>\n",
       "  </thead>\n",
       "  <tbody>\n",
       "    <tr>\n",
       "      <th>13423</th>\n",
       "      <td>2018-11-30</td>\n",
       "      <td>ZD102</td>\n",
       "      <td>35.20718</td>\n",
       "      <td>42.758407</td>\n",
       "      <td>-7.551227</td>\n",
       "    </tr>\n",
       "    <tr>\n",
       "      <th>13424</th>\n",
       "      <td>2018-11-30</td>\n",
       "      <td>E105</td>\n",
       "      <td>59.30932</td>\n",
       "      <td>62.456482</td>\n",
       "      <td>-3.147162</td>\n",
       "    </tr>\n",
       "    <tr>\n",
       "      <th>13425</th>\n",
       "      <td>2018-11-30</td>\n",
       "      <td>G105</td>\n",
       "      <td>51.90107</td>\n",
       "      <td>55.556174</td>\n",
       "      <td>-3.655104</td>\n",
       "    </tr>\n",
       "    <tr>\n",
       "      <th>13426</th>\n",
       "      <td>2018-11-30</td>\n",
       "      <td>G10</td>\n",
       "      <td>41.30265</td>\n",
       "      <td>44.802960</td>\n",
       "      <td>-3.500310</td>\n",
       "    </tr>\n",
       "    <tr>\n",
       "      <th>13427</th>\n",
       "      <td>2018-11-30</td>\n",
       "      <td>K09</td>\n",
       "      <td>17.60082</td>\n",
       "      <td>18.825775</td>\n",
       "      <td>-1.224955</td>\n",
       "    </tr>\n",
       "  </tbody>\n",
       "</table>\n",
       "</div>"
      ],
      "text/plain": [
       "            date blk_eval      crop  crop_preds  variance\n",
       "13423 2018-11-30    ZD102  35.20718   42.758407 -7.551227\n",
       "13424 2018-11-30     E105  59.30932   62.456482 -3.147162\n",
       "13425 2018-11-30     G105  51.90107   55.556174 -3.655104\n",
       "13426 2018-11-30      G10  41.30265   44.802960 -3.500310\n",
       "13427 2018-11-30      K09  17.60082   18.825775 -1.224955"
      ]
     },
     "execution_count": 12,
     "metadata": {},
     "output_type": "execute_result"
    }
   ],
   "source": [
    "# residual of LR model on validation dataset\n",
    "print(len(y_val),len(y_preds),len(df_val))\n",
    "resd = y_val - y_preds\n",
    "df_eval = df_val.copy()\n",
    "df_eval['crop_preds'] = y_preds\n",
    "df_eval['variance'] = (df_eval['crop'] - df_eval['crop_preds'])\n",
    "df_eval[['date','blk_eval','crop','crop_preds','variance']].head()"
   ]
  },
  {
   "cell_type": "code",
   "execution_count": 13,
   "metadata": {
    "ExecuteTime": {
     "end_time": "2020-10-14T00:52:36.898122Z",
     "start_time": "2020-10-14T00:52:36.892676Z"
    }
   },
   "outputs": [],
   "source": [
    "graph = df_eval.groupby(['date'])[['crop','crop_preds']].sum()"
   ]
  },
  {
   "cell_type": "code",
   "execution_count": 14,
   "metadata": {
    "ExecuteTime": {
     "end_time": "2020-10-14T00:52:37.059526Z",
     "start_time": "2020-10-14T00:52:36.899675Z"
    }
   },
   "outputs": [
    {
     "data": {
      "image/png": "[encoded data removed]",
      "text/plain": [
       "<Figure size 720x576 with 1 Axes>"
      ]
     },
     "metadata": {
      "needs_background": "light"
     },
     "output_type": "display_data"
    }
   ],
   "source": [
    "# Plot monthly estate level actaul vs predicted\n",
    "xf=graph['crop']\n",
    "yf=graph['crop_preds']\n",
    "#cf=graph['']\n",
    "xlabel='Actual'\n",
    "ylabel='Predicted'\n",
    "title = 'monthly Actual vs Predicted at Estate Level'\n",
    "fig, ax = plt.subplots(figsize=(10,8))\n",
    "ax = sns.regplot(xf,yf,ci=None);\n",
    "ax.set_title(title,color=my_title_col, fontsize = my_title_font);\n",
    "ax.set_xlabel(xlabel,color=my_label_col, fontsize = my_label_font);\n",
    "ax.set_ylabel(ylabel,color=my_label_col, fontsize = my_label_font);\n",
    "#plt.legend();\n",
    "plt.show();"
   ]
  },
  {
   "cell_type": "code",
   "execution_count": 38,
   "metadata": {
    "ExecuteTime": {
     "end_time": "2020-10-14T04:19:56.060153Z",
     "start_time": "2020-10-14T04:19:55.864538Z"
    }
   },
   "outputs": [
    {
     "data": {
      "image/png": "[encoded data removed]",
      "text/plain": [
       "<Figure size 720x576 with 1 Axes>"
      ]
     },
     "metadata": {
      "needs_background": "light"
     },
     "output_type": "display_data"
    }
   ],
   "source": [
    "# Plot y_val and y_preds\n",
    "xf=y_val\n",
    "yf=y_preds\n",
    "#cf=graph['']\n",
    "xlabel='Actual'\n",
    "ylabel='Predicted'\n",
    "title = 'Actual vs Predicted'\n",
    "fig, ax = plt.subplots(figsize=(10,8))\n",
    "ax = sns.regplot(xf,yf,ci=None);\n",
    "ax.set_title(title,color=my_title_col, fontsize = my_title_font);\n",
    "ax.set_xlabel(xlabel,color=my_label_col, fontsize = my_label_font);\n",
    "ax.set_ylabel(ylabel,color=my_label_col, fontsize = my_label_font);\n",
    "#plt.legend();\n",
    "plt.show();"
   ]
  },
  {
   "cell_type": "markdown",
   "metadata": {},
   "source": [
    "#### Scenerio - 10 Feature Importance"
   ]
  },
  {
   "cell_type": "code",
   "execution_count": 15,
   "metadata": {
    "ExecuteTime": {
     "end_time": "2020-10-14T00:52:37.079696Z",
     "start_time": "2020-10-14T00:52:37.061947Z"
    }
   },
   "outputs": [
    {
     "name": "stdout",
     "output_type": "stream",
     "text": [
      "Variable: blk_A01              Importance: 0.6\n",
      "Variable: blk_A08              Importance: 0.13\n",
      "Variable: blk_A02              Importance: 0.07\n",
      "Variable: blk_E102             Importance: 0.05\n",
      "Variable: blk_E11              Importance: 0.05\n",
      "Variable: blk_E100             Importance: 0.02\n",
      "Variable: blk_E12              Importance: 0.02\n",
      "Variable: blk_A06              Importance: 0.01\n",
      "Variable: blk_A03              Importance: 0.0\n",
      "Variable: blk_A04              Importance: 0.0\n",
      "Variable: blk_A05              Importance: 0.0\n",
      "Variable: blk_A07              Importance: 0.0\n",
      "Variable: blk_A09              Importance: 0.0\n",
      "Variable: blk_A10              Importance: 0.0\n",
      "Variable: blk_A100             Importance: 0.0\n",
      "Variable: blk_A101             Importance: 0.0\n",
      "Variable: blk_A102             Importance: 0.0\n",
      "Variable: blk_A11              Importance: 0.0\n",
      "Variable: blk_A12              Importance: 0.0\n",
      "Variable: blk_A13              Importance: 0.0\n",
      "Variable: blk_A14              Importance: 0.0\n",
      "Variable: blk_B01              Importance: 0.0\n",
      "Variable: blk_B02              Importance: 0.0\n",
      "Variable: blk_B03              Importance: 0.0\n",
      "Variable: blk_B04              Importance: 0.0\n",
      "Variable: blk_B05              Importance: 0.0\n",
      "Variable: blk_B06              Importance: 0.0\n",
      "Variable: blk_B07              Importance: 0.0\n",
      "Variable: blk_B08              Importance: 0.0\n",
      "Variable: blk_B09              Importance: 0.0\n",
      "Variable: blk_B10              Importance: 0.0\n",
      "Variable: blk_B100             Importance: 0.0\n",
      "Variable: blk_B101             Importance: 0.0\n",
      "Variable: blk_B102             Importance: 0.0\n",
      "Variable: blk_B106             Importance: 0.0\n",
      "Variable: blk_B11              Importance: 0.0\n",
      "Variable: blk_B12              Importance: 0.0\n",
      "Variable: blk_B13              Importance: 0.0\n",
      "Variable: blk_B14              Importance: 0.0\n",
      "Variable: blk_C01              Importance: 0.0\n",
      "Variable: blk_C02              Importance: 0.0\n",
      "Variable: blk_C03              Importance: 0.0\n",
      "Variable: blk_C04              Importance: 0.0\n",
      "Variable: blk_C05              Importance: 0.0\n",
      "Variable: blk_C06              Importance: 0.0\n",
      "Variable: blk_C07              Importance: 0.0\n",
      "Variable: blk_C08              Importance: 0.0\n",
      "Variable: blk_C09              Importance: 0.0\n",
      "Variable: blk_C10              Importance: 0.0\n",
      "Variable: blk_C100             Importance: 0.0\n",
      "Variable: blk_C101             Importance: 0.0\n",
      "Variable: blk_C102             Importance: 0.0\n",
      "Variable: blk_C103             Importance: 0.0\n",
      "Variable: blk_C104             Importance: 0.0\n",
      "Variable: blk_C105             Importance: 0.0\n",
      "Variable: blk_C106             Importance: 0.0\n",
      "Variable: blk_C11              Importance: 0.0\n",
      "Variable: blk_C12              Importance: 0.0\n",
      "Variable: blk_C13              Importance: 0.0\n",
      "Variable: blk_C14              Importance: 0.0\n",
      "Variable: blk_D02              Importance: 0.0\n",
      "Variable: blk_D03              Importance: 0.0\n",
      "Variable: blk_D04              Importance: 0.0\n",
      "Variable: blk_D05              Importance: 0.0\n",
      "Variable: blk_D06              Importance: 0.0\n",
      "Variable: blk_D07              Importance: 0.0\n",
      "Variable: blk_D08              Importance: 0.0\n",
      "Variable: blk_D09              Importance: 0.0\n",
      "Variable: blk_D10              Importance: 0.0\n",
      "Variable: blk_D102             Importance: 0.0\n",
      "Variable: blk_D103             Importance: 0.0\n",
      "Variable: blk_D104             Importance: 0.0\n",
      "Variable: blk_D105             Importance: 0.0\n",
      "Variable: blk_D106             Importance: 0.0\n",
      "Variable: blk_D11              Importance: 0.0\n",
      "Variable: blk_E01              Importance: 0.0\n",
      "Variable: blk_E02              Importance: 0.0\n",
      "Variable: blk_E03              Importance: 0.0\n",
      "Variable: blk_E04              Importance: 0.0\n",
      "Variable: blk_E05              Importance: 0.0\n",
      "Variable: blk_E06              Importance: 0.0\n",
      "Variable: blk_E07A             Importance: 0.0\n",
      "Variable: blk_E07B             Importance: 0.0\n",
      "Variable: blk_E08A             Importance: 0.0\n",
      "Variable: blk_E08B             Importance: 0.0\n",
      "Variable: blk_E09              Importance: 0.0\n",
      "Variable: blk_E10              Importance: 0.0\n",
      "Variable: blk_E103             Importance: 0.0\n",
      "Variable: blk_E104             Importance: 0.0\n",
      "Variable: blk_E105             Importance: 0.0\n",
      "Variable: blk_E106             Importance: 0.0\n",
      "Variable: blk_F04              Importance: 0.0\n",
      "Variable: blk_F05              Importance: 0.0\n",
      "Variable: blk_F06              Importance: 0.0\n",
      "Variable: blk_F07A             Importance: 0.0\n",
      "Variable: blk_F07B             Importance: 0.0\n",
      "Variable: blk_F08              Importance: 0.0\n",
      "Variable: blk_F09              Importance: 0.0\n",
      "Variable: blk_F10              Importance: 0.0\n",
      "Variable: blk_F102             Importance: 0.0\n",
      "Variable: blk_F103             Importance: 0.0\n",
      "Variable: blk_F105             Importance: 0.0\n",
      "Variable: blk_F106             Importance: 0.0\n",
      "Variable: blk_F11              Importance: 0.0\n",
      "Variable: blk_F12              Importance: 0.0\n",
      "Variable: blk_G04              Importance: 0.0\n",
      "Variable: blk_G05              Importance: 0.0\n",
      "Variable: blk_G06              Importance: 0.0\n",
      "Variable: blk_G07              Importance: 0.0\n",
      "Variable: blk_G08              Importance: 0.0\n",
      "Variable: blk_G09              Importance: 0.0\n",
      "Variable: blk_G10              Importance: 0.0\n",
      "Variable: blk_G105             Importance: 0.0\n",
      "Variable: blk_G106             Importance: 0.0\n",
      "Variable: blk_G11              Importance: 0.0\n",
      "Variable: blk_H02              Importance: 0.0\n",
      "Variable: blk_H03B             Importance: 0.0\n",
      "Variable: blk_H04              Importance: 0.0\n",
      "Variable: blk_H05              Importance: 0.0\n",
      "Variable: blk_H06              Importance: 0.0\n",
      "Variable: blk_H07              Importance: 0.0\n",
      "Variable: blk_H08              Importance: 0.0\n",
      "Variable: blk_H09              Importance: 0.0\n",
      "Variable: blk_H10              Importance: 0.0\n",
      "Variable: blk_H105             Importance: 0.0\n",
      "Variable: blk_H106             Importance: 0.0\n",
      "Variable: blk_H11              Importance: 0.0\n",
      "Variable: blk_H12              Importance: 0.0\n",
      "Variable: blk_I01              Importance: 0.0\n",
      "Variable: blk_I01B             Importance: 0.0\n",
      "Variable: blk_I04              Importance: 0.0\n",
      "Variable: blk_I05              Importance: 0.0\n",
      "Variable: blk_I06A             Importance: 0.0\n",
      "Variable: blk_I06B             Importance: 0.0\n",
      "Variable: blk_I07A             Importance: 0.0\n",
      "Variable: blk_I07B             Importance: 0.0\n",
      "Variable: blk_I08              Importance: 0.0\n",
      "Variable: blk_I08B             Importance: 0.0\n",
      "Variable: blk_I09              Importance: 0.0\n",
      "Variable: blk_I10              Importance: 0.0\n",
      "Variable: blk_I100             Importance: 0.0\n",
      "Variable: blk_I105             Importance: 0.0\n",
      "Variable: blk_I11              Importance: 0.0\n",
      "Variable: blk_J01              Importance: 0.0\n",
      "Variable: blk_J02              Importance: 0.0\n",
      "Variable: blk_J03A             Importance: 0.0\n",
      "Variable: blk_J03B             Importance: 0.0\n",
      "Variable: blk_J04A             Importance: 0.0\n",
      "Variable: blk_J04B             Importance: 0.0\n",
      "Variable: blk_J05A             Importance: 0.0\n",
      "Variable: blk_J05B             Importance: 0.0\n",
      "Variable: blk_J05C             Importance: 0.0\n",
      "Variable: blk_J06              Importance: 0.0\n",
      "Variable: blk_J07              Importance: 0.0\n",
      "Variable: blk_J08              Importance: 0.0\n",
      "Variable: blk_J09              Importance: 0.0\n",
      "Variable: blk_J100             Importance: 0.0\n",
      "Variable: blk_J101             Importance: 0.0\n",
      "Variable: blk_K02              Importance: 0.0\n",
      "Variable: blk_K03              Importance: 0.0\n",
      "Variable: blk_K04A             Importance: 0.0\n",
      "Variable: blk_K04B             Importance: 0.0\n",
      "Variable: blk_K05              Importance: 0.0\n",
      "Variable: blk_K08              Importance: 0.0\n",
      "Variable: blk_K09              Importance: 0.0\n",
      "Variable: blk_ZA01             Importance: 0.0\n",
      "Variable: blk_ZA102            Importance: 0.0\n",
      "Variable: blk_ZB01             Importance: 0.0\n",
      "Variable: blk_ZB102            Importance: 0.0\n",
      "Variable: blk_ZC01A            Importance: 0.0\n",
      "Variable: blk_ZC01B            Importance: 0.0\n",
      "Variable: blk_ZC102            Importance: 0.0\n",
      "Variable: blk_ZD01             Importance: 0.0\n",
      "Variable: blk_ZD102            Importance: 0.0\n",
      "Variable: blk_ZE01             Importance: 0.0\n",
      "Variable: blk_ZE102            Importance: 0.0\n",
      "Variable: blk_ZF01             Importance: 0.0\n",
      "Variable: blk_ZF102            Importance: 0.0\n",
      "Variable: blk_ZG01             Importance: 0.0\n",
      "Variable: blk_ZG102            Importance: 0.0\n",
      "Variable: blk_ZH01             Importance: 0.0\n",
      "Variable: blk_ZH102            Importance: 0.0\n",
      "Variable: blk_ZI01             Importance: 0.0\n",
      "Variable: blk_ZI102            Importance: 0.0\n",
      "Variable: blk_ZJ01             Importance: 0.0\n",
      "Variable: blk_ZJ102            Importance: 0.0\n",
      "Variable: blk_ZK102            Importance: 0.0\n",
      "Variable: blk_ZL102            Importance: 0.0\n",
      "Variable: blk_ZM102            Importance: 0.0\n",
      "Variable: blk_ZN102            Importance: 0.0\n",
      "Variable: blk_ZO102            Importance: 0.0\n",
      "Variable: blk_ZP102            Importance: 0.0\n",
      "Variable: blk_ZQ102            Importance: 0.0\n",
      "Variable: blk_ZR102            Importance: 0.0\n",
      "Variable: blk_ZS102            Importance: 0.0\n",
      "Variable: month_1              Importance: 0.0\n",
      "Variable: month_2              Importance: 0.0\n",
      "Variable: month_3              Importance: 0.0\n",
      "Variable: month_4              Importance: 0.0\n",
      "Variable: month_5              Importance: 0.0\n",
      "Variable: month_6              Importance: 0.0\n",
      "Variable: month_7              Importance: 0.0\n",
      "Variable: month_8              Importance: 0.0\n",
      "Variable: month_9              Importance: 0.0\n",
      "Variable: month_10             Importance: 0.0\n",
      "Variable: month_11             Importance: 0.0\n",
      "Variable: month_12             Importance: 0.0\n",
      "Variable: rain_6               Importance: 0.0\n",
      "Variable: rain_12              Importance: 0.0\n",
      "Variable: rain_24              Importance: 0.0\n",
      "Variable: rain_26              Importance: 0.0\n"
     ]
    }
   ],
   "source": [
    "feature_list = list(X.columns)\n",
    "# Get numerical feature importances\n",
    "importances = list(rf.feature_importances_)\n",
    "# List of tuples with variable and importance\n",
    "feature_importances = [(feature, round(importance, 2)) for feature, importance in zip(feature_list, importances)]\n",
    "# Sort the feature importances by most important first\n",
    "feature_importances = sorted(feature_importances, key = lambda x: x[1], reverse = True)\n",
    "# Print out the feature and importances \n",
    "[print('Variable: {:20} Importance: {}'.format(*pair)) for pair in feature_importances];"
   ]
  },
  {
   "cell_type": "code",
   "execution_count": 16,
   "metadata": {
    "ExecuteTime": {
     "end_time": "2020-10-14T00:52:37.091799Z",
     "start_time": "2020-10-14T00:52:37.081770Z"
    }
   },
   "outputs": [
    {
     "data": {
      "text/html": [
       "<div>\n",
       "<style scoped>\n",
       "    .dataframe tbody tr th:only-of-type {\n",
       "        vertical-align: middle;\n",
       "    }\n",
       "\n",
       "    .dataframe tbody tr th {\n",
       "        vertical-align: top;\n",
       "    }\n",
       "\n",
       "    .dataframe thead th {\n",
       "        text-align: right;\n",
       "    }\n",
       "</style>\n",
       "<table border=\"1\" class=\"dataframe\">\n",
       "  <thead>\n",
       "    <tr style=\"text-align: right;\">\n",
       "      <th></th>\n",
       "      <th>Model Type</th>\n",
       "      <th>Dataset</th>\n",
       "      <th>Metric</th>\n",
       "      <th>Score</th>\n",
       "    </tr>\n",
       "  </thead>\n",
       "  <tbody>\n",
       "    <tr>\n",
       "      <th>7</th>\n",
       "      <td>Random Forest  rf_S10</td>\n",
       "      <td>train</td>\n",
       "      <td>RMSE</td>\n",
       "      <td>12.25</td>\n",
       "    </tr>\n",
       "    <tr>\n",
       "      <th>8</th>\n",
       "      <td>Random Forest  rf_S10</td>\n",
       "      <td>Val</td>\n",
       "      <td>RMSE</td>\n",
       "      <td>13.28</td>\n",
       "    </tr>\n",
       "    <tr>\n",
       "      <th>3</th>\n",
       "      <td>Random Forest rf_S8</td>\n",
       "      <td>Val</td>\n",
       "      <td>RMSE</td>\n",
       "      <td>17.15</td>\n",
       "    </tr>\n",
       "    <tr>\n",
       "      <th>2</th>\n",
       "      <td>Random Forest rf_S8</td>\n",
       "      <td>train</td>\n",
       "      <td>RMSE</td>\n",
       "      <td>19.68</td>\n",
       "    </tr>\n",
       "  </tbody>\n",
       "</table>\n",
       "</div>"
      ],
      "text/plain": [
       "              Model Type Dataset Metric  Score\n",
       "7  Random Forest  rf_S10   train   RMSE  12.25\n",
       "8  Random Forest  rf_S10     Val   RMSE  13.28\n",
       "3    Random Forest rf_S8     Val   RMSE  17.15\n",
       "2    Random Forest rf_S8   train   RMSE  19.68"
      ]
     },
     "execution_count": 16,
     "metadata": {},
     "output_type": "execute_result"
    }
   ],
   "source": [
    "scores_df['Score'] = scores_df['Score'].astype(float)\n",
    "scores_df[scores_df['Metric'] == 'RMSE'].sort_values(by='Score')"
   ]
  },
  {
   "cell_type": "markdown",
   "metadata": {},
   "source": [
    "## Time Series"
   ]
  },
  {
   "cell_type": "code",
   "execution_count": 17,
   "metadata": {
    "ExecuteTime": {
     "end_time": "2020-10-14T00:52:38.284752Z",
     "start_time": "2020-10-14T00:52:37.095150Z"
    }
   },
   "outputs": [],
   "source": [
    "# load data from final fused dataset \n",
    "df = pd.read_csv('../data/final_fused.csv')\n",
    "df['date'] = df['date'].apply(lambda x: str(x))\n",
    "df['date'] = pd.to_datetime(df['date'],yearfirst=True,format=\"%Y/%m/%d\")\n",
    "\n"
   ]
  },
  {
   "cell_type": "code",
   "execution_count": 18,
   "metadata": {
    "ExecuteTime": {
     "end_time": "2020-10-14T00:52:39.649613Z",
     "start_time": "2020-10-14T00:52:38.288214Z"
    }
   },
   "outputs": [],
   "source": [
    "#load final fused at daily level dataset\n",
    "df = pd.read_csv(\"../data/final_fused.csv\")\n",
    "df['date'] = df['date'].apply(lambda x: str(x))\n",
    "df['date'] = pd.to_datetime(df['date'],yearfirst=True,format=\"%Y/%m/%d\")\n",
    "df = df.sort_values('date')\n",
    "\n",
    "dfi = df.copy()\n",
    "dfi = dfi.set_index('date', drop=True) # set date as index\n",
    "dfi = dfi[dfi.index < '2020-01-01'] # train & val dataset\n",
    "dfi = dfi[['rain','crop']].resample('M').sum() # resampling for monthly totals\n",
    "dfi['rain'] = dfi['rain']/195 # removing rain multiplication by no of block (undoing the effect of melt)\n",
    "dfi_mean_3 = dfi[['crop']].resample('M').mean().rolling(window=3, center=False).mean() # resampling for monthly totals"
   ]
  },
  {
   "cell_type": "code",
   "execution_count": 19,
   "metadata": {
    "ExecuteTime": {
     "end_time": "2020-10-14T00:52:39.841409Z",
     "start_time": "2020-10-14T00:52:39.652888Z"
    }
   },
   "outputs": [
    {
     "data": {
      "text/plain": [
       "<matplotlib.axes._subplots.AxesSubplot at 0x7ff7835a3110>"
      ]
     },
     "execution_count": 19,
     "metadata": {},
     "output_type": "execute_result"
    },
    {
     "data": {
      "image/png": "[encoded data removed]",
      "text/plain": [
       "<Figure size 432x288 with 1 Axes>"
      ]
     },
     "metadata": {
      "needs_background": "light"
     },
     "output_type": "display_data"
    }
   ],
   "source": [
    "dfi['crop'].plot()"
   ]
  },
  {
   "cell_type": "code",
   "execution_count": 20,
   "metadata": {
    "ExecuteTime": {
     "end_time": "2020-10-14T00:52:40.031781Z",
     "start_time": "2020-10-14T00:52:39.843729Z"
    }
   },
   "outputs": [
    {
     "data": {
      "text/plain": [
       "<matplotlib.axes._subplots.AxesSubplot at 0x7ff782078d90>"
      ]
     },
     "execution_count": 20,
     "metadata": {},
     "output_type": "execute_result"
    },
    {
     "data": {
      "image/png": "[encoded data removed]",
      "text/plain": [
       "<Figure size 432x288 with 1 Axes>"
      ]
     },
     "metadata": {
      "needs_background": "light"
     },
     "output_type": "display_data"
    }
   ],
   "source": [
    "dfi_mean_3['crop'].plot(title='Rolling 3 months mean -  Crop')"
   ]
  },
  {
   "cell_type": "code",
   "execution_count": 21,
   "metadata": {
    "ExecuteTime": {
     "end_time": "2020-10-14T00:52:40.054158Z",
     "start_time": "2020-10-14T00:52:40.033833Z"
    }
   },
   "outputs": [
    {
     "data": {
      "text/plain": [
       "(-5.758958368585296,\n",
       " 5.731631535087724e-07,\n",
       " 2,\n",
       " 102,\n",
       " {'1%': -3.4961490537199116,\n",
       "  '5%': -2.8903209639580556,\n",
       "  '10%': -2.5821223452518263},\n",
       " 1598.6697780178315)"
      ]
     },
     "execution_count": 21,
     "metadata": {},
     "output_type": "execute_result"
    }
   ],
   "source": [
    "# Run ADF test on original (non-differenced!) data.\n",
    "adfuller(dfi['crop'])"
   ]
  },
  {
   "cell_type": "code",
   "execution_count": 22,
   "metadata": {
    "ExecuteTime": {
     "end_time": "2020-10-14T00:52:40.070116Z",
     "start_time": "2020-10-14T00:52:40.056403Z"
    }
   },
   "outputs": [
    {
     "data": {
      "text/plain": [
       "Test Statistic   -5.758958e+00\n",
       "p-value           5.731632e-07\n",
       "dtype: float64"
      ]
     },
     "execution_count": 22,
     "metadata": {},
     "output_type": "execute_result"
    }
   ],
   "source": [
    "def interpret_dftest(dftest):\n",
    "    dfoutput = pd.Series(dftest[0:2], index=['Test Statistic','p-value'])\n",
    "    return dfoutput\n",
    "\n",
    "# Run ADF test on original (non-differenced!) data.\n",
    "interpret_dftest(adfuller(dfi['crop']))"
   ]
  },
  {
   "cell_type": "markdown",
   "metadata": {},
   "source": [
    "**P-value is much higher than alpha of 0.01, so as per ADF test crop data is NOT stationary.**"
   ]
  },
  {
   "cell_type": "code",
   "execution_count": 23,
   "metadata": {
    "ExecuteTime": {
     "end_time": "2020-10-14T00:52:40.083866Z",
     "start_time": "2020-10-14T00:52:40.077452Z"
    }
   },
   "outputs": [],
   "source": [
    "# Create crop_diff1 and crop_diff2\n",
    "# columns in df.\n",
    "dfi['crop_diff1'] = dfi['crop'].diff(1)\n",
    "dfi['crop_diff2'] = dfi['crop'].diff(1).diff(1)"
   ]
  },
  {
   "cell_type": "code",
   "execution_count": 24,
   "metadata": {
    "ExecuteTime": {
     "end_time": "2020-10-14T00:52:40.278089Z",
     "start_time": "2020-10-14T00:52:40.087412Z"
    }
   },
   "outputs": [
    {
     "data": {
      "image/png": "[encoded data removed]",
      "text/plain": [
       "<Figure size 432x288 with 1 Axes>"
      ]
     },
     "metadata": {
      "needs_background": "light"
     },
     "output_type": "display_data"
    }
   ],
   "source": [
    "dfi['crop_diff1'].plot(title='Crop with one difference');"
   ]
  },
  {
   "cell_type": "code",
   "execution_count": 25,
   "metadata": {
    "ExecuteTime": {
     "end_time": "2020-10-14T00:52:40.292544Z",
     "start_time": "2020-10-14T00:52:40.280824Z"
    }
   },
   "outputs": [
    {
     "data": {
      "text/plain": [
       "(-5.270102671911272,\n",
       " 6.312969253309583e-06,\n",
       " 13,\n",
       " 90,\n",
       " {'1%': -3.505190196159122,\n",
       "  '5%': -2.894232085048011,\n",
       "  '10%': -2.5842101234567902},\n",
       " 1594.6989106173246)"
      ]
     },
     "execution_count": 25,
     "metadata": {},
     "output_type": "execute_result"
    }
   ],
   "source": [
    "# Run ADF test on original (one-differenced!) data.\n",
    "adfuller(dfi['crop_diff1'].dropna())"
   ]
  },
  {
   "cell_type": "code",
   "execution_count": 26,
   "metadata": {
    "ExecuteTime": {
     "end_time": "2020-10-14T00:52:40.308910Z",
     "start_time": "2020-10-14T00:52:40.294901Z"
    }
   },
   "outputs": [
    {
     "data": {
      "text/plain": [
       "Test Statistic   -5.270103\n",
       "p-value           0.000006\n",
       "dtype: float64"
      ]
     },
     "execution_count": 26,
     "metadata": {},
     "output_type": "execute_result"
    }
   ],
   "source": [
    "# Run ADF test on original (one-differenced!) data.\n",
    "interpret_dftest(adfuller(dfi['crop_diff1'].dropna()))"
   ]
  },
  {
   "cell_type": "markdown",
   "metadata": {},
   "source": [
    "**One differenced crop data is stationary since p-value is much smaller than 0.01.**"
   ]
  },
  {
   "cell_type": "markdown",
   "metadata": {},
   "source": [
    "#### ARIMA"
   ]
  },
  {
   "cell_type": "markdown",
   "metadata": {},
   "source": [
    "There are three hyperparameters we need to get values for when fitting an ARIMA model.\n",
    "1. Determine a value of $d$ using the Augmented Dickey-Fuller test.\n",
    "2. Then, determine values of $p$ and $q$ through GridSearching.\n",
    "\n",
    "An $ARIMA(p, d, q)$ model is specified by:\n",
    "- how many differences $d$ we need to calculate in order to achieve stationarity.\n",
    "- how many lags $p$ we regress $Y_t^{(d)}$ on.\n",
    "- how many errors $q$ we regress $Y_t^{(d)}$ on."
   ]
  },
  {
   "cell_type": "markdown",
   "metadata": {},
   "source": [
    "##### Scenerio - 1"
   ]
  },
  {
   "cell_type": "code",
   "execution_count": 27,
   "metadata": {
    "ExecuteTime": {
     "end_time": "2020-10-14T00:52:40.474001Z",
     "start_time": "2020-10-14T00:52:40.311380Z"
    }
   },
   "outputs": [],
   "source": [
    "# Train & Val : 1-apr-2011 to 31-Dec-2019\n",
    "# Test : 1-Jan-2020 to 31-May-2020\n",
    "\n",
    "\n",
    "dfi = df.copy()\n",
    "dfi = dfi.set_index('date', drop=True) # set date as index\n",
    "\n",
    "dfi = dfi[['rain','crop']].resample('M').sum() # resampling for monthly totals\n",
    "dfi['rain'] = dfi['rain']/195 # removing rain multiplication by no of block (undoing the effect of melt)\n",
    "\n",
    "dfi_m_train = dfi[dfi.index < '2020-01-01'].copy() # train & val dataset\n",
    "dfi_m_test = dfi[dfi.index > '2019-12-31'].copy() # test data\n",
    "dfi_m_test.drop(dfi_m_test[dfi_m_test.index > '2020-05-31'].index,inplace=True) # keeping data only until 31-may-2020\n",
    "\n",
    "dfi_m_test.drop('crop',axis=1,inplace=True) # dropping target variable from test dataset\n",
    "\n",
    "# Removing date as index for modeling\n",
    "dfi_m_train.reset_index(drop=True,inplace=True)\n",
    "dfi_m_test.reset_index(drop=True,inplace=True)"
   ]
  },
  {
   "cell_type": "code",
   "execution_count": 28,
   "metadata": {
    "ExecuteTime": {
     "end_time": "2020-10-14T00:52:40.480252Z",
     "start_time": "2020-10-14T00:52:40.476102Z"
    }
   },
   "outputs": [],
   "source": [
    "# create one difference \n",
    "dfi_m_train['crop_diff1'] = dfi_m_train['crop'].diff(1)"
   ]
  },
  {
   "cell_type": "code",
   "execution_count": 29,
   "metadata": {
    "ExecuteTime": {
     "end_time": "2020-10-14T00:52:40.487128Z",
     "start_time": "2020-10-14T00:52:40.482691Z"
    }
   },
   "outputs": [],
   "source": [
    "y_train, y_test = train_test_split(dfi_m_train['crop'],\n",
    "                                   test_size = 0.1,\n",
    "                                   shuffle = False) # Shuffle = False is IMPORTANT!"
   ]
  },
  {
   "cell_type": "code",
   "execution_count": 30,
   "metadata": {
    "ExecuteTime": {
     "end_time": "2020-10-14T00:52:45.273057Z",
     "start_time": "2020-10-14T00:52:40.489585Z"
    },
    "scrolled": false
   },
   "outputs": [
    {
     "name": "stdout",
     "output_type": "stream",
     "text": [
      "Attempting to fit ARIMA(0,1,0)\n",
      "The AIC for ARIMA(0,1,0) is: 1658.9136654492104\n",
      "Attempting to fit ARIMA(0,1,1)\n",
      "The AIC for ARIMA(0,1,1) is: 1658.410717362505\n",
      "Attempting to fit ARIMA(0,1,2)\n",
      "The AIC for ARIMA(0,1,2) is: 1659.818750588742\n",
      "Attempting to fit ARIMA(0,1,3)\n",
      "The AIC for ARIMA(0,1,3) is: 1639.5884618909788\n",
      "Attempting to fit ARIMA(0,1,4)\n",
      "The AIC for ARIMA(0,1,4) is: 1636.9256762380246\n",
      "Attempting to fit ARIMA(1,1,0)\n",
      "The AIC for ARIMA(1,1,0) is: 1658.0117936361219\n",
      "Attempting to fit ARIMA(1,1,1)\n",
      "The AIC for ARIMA(1,1,1) is: 1657.109452250324\n",
      "Attempting to fit ARIMA(1,1,2)\n",
      "The AIC for ARIMA(1,1,2) is: 1658.9847972070645\n",
      "Attempting to fit ARIMA(1,1,3)\n",
      "The AIC for ARIMA(1,1,3) is: 1638.2889881534447\n",
      "Attempting to fit ARIMA(1,1,4)\n",
      "The AIC for ARIMA(1,1,4) is: 1638.7442095569188\n",
      "Attempting to fit ARIMA(2,1,0)\n",
      "The AIC for ARIMA(2,1,0) is: 1658.9661436935087\n",
      "Attempting to fit ARIMA(2,1,1)\n"
     ]
    },
    {
     "name": "stderr",
     "output_type": "stream",
     "text": [
      "/opt/anaconda3/lib/python3.7/site-packages/statsmodels/base/model.py:548: HessianInversionWarning: Inverting hessian failed, no bse or cov_params available\n",
      "  'available', HessianInversionWarning)\n"
     ]
    },
    {
     "name": "stdout",
     "output_type": "stream",
     "text": [
      "The AIC for ARIMA(2,1,1) is: 1658.9852687560615\n",
      "Attempting to fit ARIMA(2,1,2)\n"
     ]
    },
    {
     "name": "stderr",
     "output_type": "stream",
     "text": [
      "/opt/anaconda3/lib/python3.7/site-packages/statsmodels/base/model.py:548: HessianInversionWarning: Inverting hessian failed, no bse or cov_params available\n",
      "  'available', HessianInversionWarning)\n"
     ]
    },
    {
     "name": "stdout",
     "output_type": "stream",
     "text": [
      "The AIC for ARIMA(2,1,2) is: 1648.84718940983\n",
      "Attempting to fit ARIMA(2,1,3)\n",
      "The AIC for ARIMA(2,1,3) is: 1638.6836118698939\n",
      "Attempting to fit ARIMA(2,1,4)\n"
     ]
    },
    {
     "name": "stderr",
     "output_type": "stream",
     "text": [
      "/opt/anaconda3/lib/python3.7/site-packages/statsmodels/base/model.py:548: HessianInversionWarning: Inverting hessian failed, no bse or cov_params available\n",
      "  'available', HessianInversionWarning)\n",
      "/opt/anaconda3/lib/python3.7/site-packages/statsmodels/base/model.py:568: ConvergenceWarning: Maximum Likelihood optimization failed to converge. Check mle_retvals\n",
      "  \"Check mle_retvals\", ConvergenceWarning)\n",
      "/opt/anaconda3/lib/python3.7/site-packages/statsmodels/base/model.py:548: HessianInversionWarning: Inverting hessian failed, no bse or cov_params available\n",
      "  'available', HessianInversionWarning)\n",
      "/opt/anaconda3/lib/python3.7/site-packages/statsmodels/tsa/tsatools.py:716: RuntimeWarning: divide by zero encountered in true_divide\n",
      "  invmacoefs = -np.log((1-macoefs)/(1+macoefs))\n",
      "/opt/anaconda3/lib/python3.7/site-packages/statsmodels/tsa/tsatools.py:689: RuntimeWarning: invalid value encountered in true_divide\n",
      "  newparams = ((1-np.exp(-params))/(1+np.exp(-params))).copy()\n",
      "/opt/anaconda3/lib/python3.7/site-packages/statsmodels/tsa/tsatools.py:690: RuntimeWarning: invalid value encountered in true_divide\n",
      "  tmp = ((1-np.exp(-params))/(1+np.exp(-params))).copy()\n"
     ]
    },
    {
     "name": "stdout",
     "output_type": "stream",
     "text": [
      "The AIC for ARIMA(2,1,4) is: 1642.2904408595946\n",
      "Attempting to fit ARIMA(3,1,0)\n",
      "The AIC for ARIMA(3,1,0) is: 1656.6560857404847\n",
      "Attempting to fit ARIMA(3,1,1)\n",
      "The AIC for ARIMA(3,1,1) is: 1637.420097344031\n",
      "Attempting to fit ARIMA(3,1,2)\n",
      "Attempting to fit ARIMA(3,1,3)\n"
     ]
    },
    {
     "name": "stderr",
     "output_type": "stream",
     "text": [
      "/opt/anaconda3/lib/python3.7/site-packages/statsmodels/base/model.py:548: HessianInversionWarning: Inverting hessian failed, no bse or cov_params available\n",
      "  'available', HessianInversionWarning)\n"
     ]
    },
    {
     "name": "stdout",
     "output_type": "stream",
     "text": [
      "The AIC for ARIMA(3,1,3) is: 1640.2975380861005\n",
      "Attempting to fit ARIMA(3,1,4)\n"
     ]
    },
    {
     "name": "stderr",
     "output_type": "stream",
     "text": [
      "/opt/anaconda3/lib/python3.7/site-packages/statsmodels/base/model.py:548: HessianInversionWarning: Inverting hessian failed, no bse or cov_params available\n",
      "  'available', HessianInversionWarning)\n"
     ]
    },
    {
     "name": "stdout",
     "output_type": "stream",
     "text": [
      "The AIC for ARIMA(3,1,4) is: 1642.0472658045685\n",
      "Attempting to fit ARIMA(4,1,0)\n",
      "The AIC for ARIMA(4,1,0) is: 1652.9836933438228\n",
      "Attempting to fit ARIMA(4,1,1)\n",
      "The AIC for ARIMA(4,1,1) is: 1638.9905835301313\n",
      "Attempting to fit ARIMA(4,1,2)\n",
      "The AIC for ARIMA(4,1,2) is: 1640.969087974502\n",
      "Attempting to fit ARIMA(4,1,3)\n",
      "The AIC for ARIMA(4,1,3) is: 1641.2833212785529\n",
      "Attempting to fit ARIMA(4,1,4)\n",
      "The AIC for ARIMA(4,1,4) is: 1642.2847321860138\n",
      "\n",
      "\n",
      "MODEL FINISHED!\n",
      "Our model that minimizes AIC on the training data is the ARIMA(0,1,4).\n",
      "This model has an AIC of 1636.9256762380246.\n"
     ]
    },
    {
     "name": "stderr",
     "output_type": "stream",
     "text": [
      "/opt/anaconda3/lib/python3.7/site-packages/statsmodels/base/model.py:548: HessianInversionWarning: Inverting hessian failed, no bse or cov_params available\n",
      "  'available', HessianInversionWarning)\n"
     ]
    }
   ],
   "source": [
    "# Starting AIC, p, and q.\n",
    "best_aic = 99 * (10 ** 16)\n",
    "best_p = 0\n",
    "best_q = 0\n",
    "\n",
    "# Use nested for loop to iterate over values of p and q.\n",
    "for p in range(5):\n",
    "    for q in range(5):\n",
    "        \n",
    "        # Insert try and except statements.\n",
    "        try:\n",
    "            \n",
    "            # Fitting an ARIMA(p, 0, q) model.\n",
    "            print(f'Attempting to fit ARIMA({p},1,{q})')\n",
    "            \n",
    "            # Instantiate ARIMA model.\n",
    "            arima = ARIMA(endog = y_train.astype(float).dropna(), # endog = Y variable\n",
    "                          order = (p,1,q)) # values of p, d, q\n",
    "            \n",
    "            # Fit ARIMA model.\n",
    "            model = arima.fit()\n",
    "\n",
    "            # Print out AIC for ARIMA(p, 1, q) model.\n",
    "            print(f'The AIC for ARIMA({p},1,{q}) is: {model.aic}')\n",
    "\n",
    "            # Is my current model's AIC better than our best_aic?\n",
    "            if model.aic < best_aic:\n",
    "                \n",
    "                # If so, let's overwrite best_aic, best_p, and best_q.\n",
    "                best_aic = model.aic\n",
    "                best_p = p\n",
    "                best_q = q\n",
    "\n",
    "        except:\n",
    "            pass\n",
    "print()\n",
    "print()\n",
    "print('MODEL FINISHED!')\n",
    "print(f'Our model that minimizes AIC on the training data is the ARIMA({best_p},1,{best_q}).')\n",
    "print(f'This model has an AIC of {best_aic}.')"
   ]
  },
  {
   "cell_type": "code",
   "execution_count": 31,
   "metadata": {
    "ExecuteTime": {
     "end_time": "2020-10-14T00:52:45.280264Z",
     "start_time": "2020-10-14T00:52:45.275120Z"
    }
   },
   "outputs": [
    {
     "data": {
      "text/plain": [
       "0      7994.20059\n",
       "1      8614.03416\n",
       "2      7714.13505\n",
       "3      8511.76212\n",
       "4      7345.95696\n",
       "5      8584.37312\n",
       "6      9202.49179\n",
       "7      8938.96193\n",
       "8      9483.41076\n",
       "9      9597.96322\n",
       "10     8505.89268\n",
       "11     9521.02500\n",
       "12     7715.13953\n",
       "13     8637.70697\n",
       "14     7614.38662\n",
       "15     8071.89968\n",
       "16     7626.28897\n",
       "17     9459.09261\n",
       "18    10119.86002\n",
       "19    11577.34168\n",
       "20    11903.82566\n",
       "21     9935.53601\n",
       "22     8112.98844\n",
       "23     9239.38802\n",
       "24     8428.62868\n",
       "25     8870.81157\n",
       "26     7004.82251\n",
       "27     7607.16302\n",
       "28     5797.52756\n",
       "29     5793.26759\n",
       "30     7127.53884\n",
       "31     8664.04662\n",
       "32     9213.40346\n",
       "33     9521.40111\n",
       "34     8733.93593\n",
       "35    10030.40355\n",
       "36    11204.83669\n",
       "37     8600.27903\n",
       "38     9834.51460\n",
       "39     6547.96966\n",
       "40     8613.97564\n",
       "41     5827.54804\n",
       "42     6391.22105\n",
       "43     7245.28513\n",
       "44     8026.17391\n",
       "45     8177.73870\n",
       "46     6863.54975\n",
       "47     8589.58879\n",
       "48     9046.49832\n",
       "49     8735.33228\n",
       "50    10959.25347\n",
       "51     7839.50857\n",
       "52     6589.02555\n",
       "53     6045.12218\n",
       "54     7276.33282\n",
       "55     7381.60511\n",
       "56     8460.54775\n",
       "57     7108.65237\n",
       "58     6790.04882\n",
       "59     6541.79330\n",
       "60     6130.14762\n",
       "61     6056.74004\n",
       "62     5786.84041\n",
       "63     4249.61061\n",
       "64     6029.89115\n",
       "65     9481.55861\n",
       "66    12390.82311\n",
       "67    15805.64415\n",
       "68     9431.73087\n",
       "69     6259.76601\n",
       "70     6613.08402\n",
       "71     7054.34809\n",
       "72     8167.63473\n",
       "73    11007.65794\n",
       "74     7766.47121\n",
       "75    11039.61371\n",
       "76     8794.03904\n",
       "77     6881.51324\n",
       "78     5616.71438\n",
       "79     4870.09031\n",
       "80     4331.17415\n",
       "81     5727.02215\n",
       "82     5880.55798\n",
       "83     8291.78643\n",
       "84    10719.63976\n",
       "85    12749.87947\n",
       "86     8871.85940\n",
       "87    12680.65350\n",
       "88    10238.15929\n",
       "89    10206.77887\n",
       "90     8300.99120\n",
       "91     7867.88957\n",
       "92     7123.28892\n",
       "93     7173.11184\n",
       "Name: crop, dtype: float64"
      ]
     },
     "execution_count": 31,
     "metadata": {},
     "output_type": "execute_result"
    }
   ],
   "source": [
    "y_train"
   ]
  },
  {
   "cell_type": "code",
   "execution_count": 32,
   "metadata": {
    "ExecuteTime": {
     "end_time": "2020-10-14T00:52:45.285931Z",
     "start_time": "2020-10-14T00:52:45.282042Z"
    }
   },
   "outputs": [
    {
     "data": {
      "text/plain": [
       "94"
      ]
     },
     "execution_count": 32,
     "metadata": {},
     "output_type": "execute_result"
    }
   ],
   "source": [
    "y_test.index[0]"
   ]
  },
  {
   "cell_type": "code",
   "execution_count": 33,
   "metadata": {
    "ExecuteTime": {
     "end_time": "2020-10-14T00:52:45.292315Z",
     "start_time": "2020-10-14T00:52:45.287788Z"
    }
   },
   "outputs": [
    {
     "data": {
      "text/plain": [
       "94     5835.13835\n",
       "95     6147.69893\n",
       "96     6574.74291\n",
       "97     5639.26342\n",
       "98     6327.53989\n",
       "99     8090.56160\n",
       "100    8962.29218\n",
       "101    7756.53979\n",
       "102    7564.17590\n",
       "103    7499.38867\n",
       "104    6898.83800\n",
       "Name: crop, dtype: float64"
      ]
     },
     "execution_count": 33,
     "metadata": {},
     "output_type": "execute_result"
    }
   ],
   "source": [
    "y_test"
   ]
  },
  {
   "cell_type": "code",
   "execution_count": 34,
   "metadata": {
    "ExecuteTime": {
     "end_time": "2020-10-14T00:52:45.298081Z",
     "start_time": "2020-10-14T00:52:45.294072Z"
    }
   },
   "outputs": [
    {
     "data": {
      "text/plain": [
       "94"
      ]
     },
     "execution_count": 34,
     "metadata": {},
     "output_type": "execute_result"
    }
   ],
   "source": [
    "y_test.index[0]"
   ]
  },
  {
   "cell_type": "code",
   "execution_count": 35,
   "metadata": {
    "ExecuteTime": {
     "end_time": "2020-10-14T00:52:45.303941Z",
     "start_time": "2020-10-14T00:52:45.300029Z"
    }
   },
   "outputs": [
    {
     "data": {
      "text/plain": [
       "104"
      ]
     },
     "execution_count": 35,
     "metadata": {},
     "output_type": "execute_result"
    }
   ],
   "source": [
    "y_test.index[-1]"
   ]
  },
  {
   "cell_type": "code",
   "execution_count": 36,
   "metadata": {
    "ExecuteTime": {
     "end_time": "2020-10-14T00:52:45.467554Z",
     "start_time": "2020-10-14T00:52:45.305691Z"
    }
   },
   "outputs": [
    {
     "ename": "NameError",
     "evalue": "name 'preds' is not defined",
     "output_type": "error",
     "traceback": [
      "\u001b[0;31m---------------------------------------------------------------------------\u001b[0m",
      "\u001b[0;31mNameError\u001b[0m                                 Traceback (most recent call last)",
      "\u001b[0;32m<ipython-input-36-c66c8509e20f>\u001b[0m in \u001b[0;36m<module>\u001b[0;34m\u001b[0m\n\u001b[0;32m----> 1\u001b[0;31m \u001b[0mpreds\u001b[0m\u001b[0;34m\u001b[0m\u001b[0;34m\u001b[0m\u001b[0m\n\u001b[0m",
      "\u001b[0;31mNameError\u001b[0m: name 'preds' is not defined"
     ]
    }
   ],
   "source": [
    "preds"
   ]
  },
  {
   "cell_type": "code",
   "execution_count": null,
   "metadata": {
    "ExecuteTime": {
     "end_time": "2020-10-14T00:52:45.469459Z",
     "start_time": "2020-10-14T00:51:41.436Z"
    }
   },
   "outputs": [],
   "source": [
    "# Instantiate best model.\n",
    "model = ARIMA(endog = y_train.astype(float).dropna(), # endog = Y variable\n",
    "              order = (0,1,4))\n",
    "\n",
    "# Fit ARIMA model.\n",
    "arima = model.fit()\n",
    "\n",
    "# Generate predictions based on test set.\n",
    "preds = model.predict(params = arima.params,\n",
    "                      start = y_test.index[0],\n",
    "                      end = y_test.index[-1])\n",
    "\n",
    "# Plot data.\n",
    "plt.figure(figsize=(10,6))\n",
    "\n",
    "# Plot training data.\n",
    "plt.plot(y_train.index, pd.DataFrame(y_train).diff(), color = 'blue')\n",
    "\n",
    "# Plot testing data.\n",
    "plt.plot(y_test.index, pd.DataFrame(y_test).diff(), color = 'orange')\n",
    "\n",
    "# Plot predicted test values.\n",
    "plt.plot(y_test.index, preds, color = 'green')\n",
    "\n",
    "plt.title(label = 'Once-Differenced Global Mean Temperature with ARIMA(0, 1, 4) Predictions', fontsize=16)\n",
    "plt.show();"
   ]
  },
  {
   "cell_type": "code",
   "execution_count": null,
   "metadata": {
    "ExecuteTime": {
     "end_time": "2020-10-14T00:52:45.471043Z",
     "start_time": "2020-10-14T00:51:41.438Z"
    }
   },
   "outputs": [],
   "source": [
    "preds"
   ]
  },
  {
   "cell_type": "code",
   "execution_count": null,
   "metadata": {},
   "outputs": [],
   "source": []
  }
 ],
 "metadata": {
  "kernelspec": {
   "display_name": "Python 3",
   "language": "python",
   "name": "python3"
  },
  "language_info": {
   "codemirror_mode": {
    "name": "ipython",
    "version": 3
   },
   "file_extension": ".py",
   "mimetype": "text/x-python",
   "name": "python",
   "nbconvert_exporter": "python",
   "pygments_lexer": "ipython3",
   "version": "3.7.6"
  },
  "toc": {
   "base_numbering": 1,
   "nav_menu": {},
   "number_sections": true,
   "sideBar": true,
   "skip_h1_title": false,
   "title_cell": "Table of Contents",
   "title_sidebar": "Contents",
   "toc_cell": false,
   "toc_position": {
    "height": "calc(100% - 180px)",
    "left": "10px",
    "top": "150px",
    "width": "250.796875px"
   },
   "toc_section_display": true,
   "toc_window_display": true
  }
 },
 "nbformat": 4,
 "nbformat_minor": 4
}
